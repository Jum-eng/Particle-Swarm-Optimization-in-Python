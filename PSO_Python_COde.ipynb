{
  "nbformat": 4,
  "nbformat_minor": 0,
  "metadata": {
    "colab": {
      "provenance": [],
      "authorship_tag": "ABX9TyO0BFqnFlreDs9oSmc3FdVN",
      "include_colab_link": true
    },
    "kernelspec": {
      "name": "python3",
      "display_name": "Python 3"
    },
    "language_info": {
      "name": "python"
    }
  },
  "cells": [
    {
      "cell_type": "markdown",
      "metadata": {
        "id": "view-in-github",
        "colab_type": "text"
      },
      "source": [
        "<a href=\"https://colab.research.google.com/github/Jum-eng/Particle-Swarm-Optimization-in-Python/blob/main/PSO_Python_COde.ipynb\" target=\"_parent\"><img src=\"https://colab.research.google.com/assets/colab-badge.svg\" alt=\"Open In Colab\"/></a>"
      ]
    },
    {
      "cell_type": "code",
      "source": [
        "import random # to generate random numbers\n",
        "import numpy as np # for numerical operations and manipulations\n",
        "from tkinter import messagebox, Tk # to display the final output that is the best position and best fitness value found\n",
        "\n",
        "#Define Class Particles\n",
        "class Particle:\n",
        "    def __init__ (self,position):\n",
        "        self.position=position\n",
        "        self.velocity=np.zeros_like(position)\n",
        "        self.best_position=position\n",
        "        self.best_fitness=float('inf')\n",
        "\n",
        "def PSO(ObjF,Pop_Size,D,MaxT):\n",
        "    swarm_best_position=None\n",
        "    swarm_best_fitness=float('inf')\n",
        "    particles=[]\n",
        "\n",
        "    #Posotion Initialization\n",
        "    position=np.random.uniform(-0.5,0.5,D)\n",
        "    particle=Particle(position)\n",
        "    particles.append(particle)\n",
        "\n",
        "    #Fitness Update\n",
        "    fitness=ObjF(position)\n",
        "    if fitness<swarm_best_fitness:\n",
        "        swarm_best_fitness=fitness\n",
        "        swarm_best_position=position\n",
        "\n",
        "        particle.best_position=position\n",
        "        particle.best_fitness=fitness\n",
        "\n",
        "    #PSO Main Loop\n",
        "    for itr in range(MaxT):\n",
        "        for particle in particles:\n",
        "            #Update Velocity\n",
        "            w = 0.8\n",
        "            c1 = 1.2\n",
        "            c2 = 1.2\n",
        "\n",
        "            r1=random.random()\n",
        "            r2=random.random()\n",
        "\n",
        "            #Velocity Calculation\n",
        "            particle.velocity =(w*particle.velocity+c1*r1*(particle.best_position-particle.position)+c2*r2+(swarm_best_position-particle.position))\n",
        "\n",
        "            #New Position\n",
        "            particle.position += particle.velocity\n",
        "\n",
        "            #Evaluate Fitness\n",
        "            fitness = ObjF(particle.position)\n",
        "\n",
        "            #Update PBest\n",
        "            if fitness<particle.best_fitness:\n",
        "                particle.best_fitness=fitness\n",
        "                particle.best_position=particle.position\n",
        "\n",
        "            #Update GBest\n",
        "            if fitness<swarm_best_fitness:\n",
        "                swarm_best_fitness=fitness\n",
        "                swarm_best_position=particle.position\n",
        "\n",
        "    return swarm_best_position,swarm_best_fitness\n",
        "\n",
        "#Define ObjFunction\n",
        "def F1(x):\n",
        "     return np.sum(x**2)\n",
        "\n",
        "def F2(x):\n",
        "    return np.max(np.abs(x))\n",
        "\n",
        "Objective_Function ={'F1':F1,'F2':F2}\n",
        "\n",
        "#Parameters\n",
        "Pop_Size=100\n",
        "MaxT=100\n",
        "D=2\n",
        "\n",
        "# Iterate over each objective function and run PSO\n",
        "for funName, ObjF in Objective_Function.items():\n",
        "    Output = \"Running Function = \" + funName + \"\\n\"\n",
        "    best_position,best_fitness = PSO(ObjF,Pop_Size,D,MaxT)\n",
        "    Output += \"BEST POSITION : \" + str(best_position)+\"\\n\"\n",
        "    Output += \"BEST COST : \" + str(best_fitness)\n",
        "    Output += \"\\n\"\n",
        "\n",
        "    print(Output)"
      ],
      "metadata": {
        "colab": {
          "base_uri": "https://localhost:8080/"
        },
        "id": "AKIPgMEBs4cE",
        "outputId": "6007f03d-a965-40fc-cfb3-b4f4f897048b"
      },
      "execution_count": 1,
      "outputs": [
        {
          "output_type": "stream",
          "name": "stdout",
          "text": [
            "Running Function = F1\n",
            "BEST POSITION : [277.69142879 277.63481227]\n",
            "BEST COST : 0.28426506958269104\n",
            "\n",
            "Running Function = F2\n",
            "BEST POSITION : [293.21726758 293.12956707]\n",
            "BEST COST : 0.1090985416610295\n",
            "\n"
          ]
        }
      ]
    },
    {
      "cell_type": "code",
      "source": [],
      "metadata": {
        "id": "M0EiPr-7tAEG"
      },
      "execution_count": null,
      "outputs": []
    }
  ]
}